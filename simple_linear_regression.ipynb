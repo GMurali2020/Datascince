{
 "cells": [
  {
   "cell_type": "code",
   "execution_count": 1,
   "metadata": {},
   "outputs": [],
   "source": [
    "import numpy as np\n",
    "import pandas as pd\n",
    "import matplotlib.pyplot as plt\n"
   ]
  },
  {
   "cell_type": "code",
   "execution_count": 23,
   "metadata": {},
   "outputs": [
    {
     "data": {
      "text/html": [
       "<div>\n",
       "<style scoped>\n",
       "    .dataframe tbody tr th:only-of-type {\n",
       "        vertical-align: middle;\n",
       "    }\n",
       "\n",
       "    .dataframe tbody tr th {\n",
       "        vertical-align: top;\n",
       "    }\n",
       "\n",
       "    .dataframe thead th {\n",
       "        text-align: right;\n",
       "    }\n",
       "</style>\n",
       "<table border=\"1\" class=\"dataframe\">\n",
       "  <thead>\n",
       "    <tr style=\"text-align: right;\">\n",
       "      <th></th>\n",
       "      <th>Height</th>\n",
       "      <th>Weight</th>\n",
       "    </tr>\n",
       "  </thead>\n",
       "  <tbody>\n",
       "    <tr>\n",
       "      <th>33</th>\n",
       "      <td>205.0</td>\n",
       "      <td>102.5</td>\n",
       "    </tr>\n",
       "    <tr>\n",
       "      <th>34</th>\n",
       "      <td>208.0</td>\n",
       "      <td>104.8</td>\n",
       "    </tr>\n",
       "  </tbody>\n",
       "</table>\n",
       "</div>"
      ],
      "text/plain": [
       "    Height  Weight\n",
       "33   205.0   102.5\n",
       "34   208.0   104.8"
      ]
     },
     "execution_count": 23,
     "metadata": {},
     "output_type": "execute_result"
    }
   ],
   "source": [
    "df=pd.read_excel(\"Height_Weight.xlsx\")\n",
    "df.head(4)\n",
    "df.drop(columns=['Unnamed: 0'])\n",
    "df.fillna(0)\n",
    "df.drop(columns='Unnamed: 0')\n",
    "del df['Unnamed: 0']\n",
    "df.tail(2)"
   ]
  },
  {
   "cell_type": "code",
   "execution_count": 24,
   "metadata": {},
   "outputs": [
    {
     "data": {
      "text/plain": [
       "(35, 2)"
      ]
     },
     "execution_count": 24,
     "metadata": {},
     "output_type": "execute_result"
    }
   ],
   "source": [
    "df.shape"
   ]
  },
  {
   "cell_type": "code",
   "execution_count": 30,
   "metadata": {},
   "outputs": [
    {
     "name": "stdout",
     "output_type": "stream",
     "text": [
      "30    198.12\n",
      "31    200.66\n",
      "32    203.20\n",
      "33    205.00\n",
      "34    208.00\n",
      "Name: Height, dtype: float64\n",
      "30     94.8\n",
      "31     97.5\n",
      "32     99.8\n",
      "33    102.5\n",
      "34    104.8\n",
      "Name: Weight, dtype: float64\n"
     ]
    }
   ],
   "source": [
    "# here independent(X) variable is height and dependent(Y) variable is weight\n",
    "# now split the dataset into training and testing \n",
    "h_x_train=df.Height[0:30]\n",
    "h_x_test=df.Height[30:35]\n",
    "#h_x_train\n",
    "#h_x_test\n",
    "w_y_train=df.Weight[0:30]\n",
    "w_y_test=df.Weight[30:35]\n",
    "print(h_x_test)\n",
    "print(w_y_test)"
   ]
  },
  {
   "cell_type": "code",
   "execution_count": 31,
   "metadata": {},
   "outputs": [
    {
     "name": "stdout",
     "output_type": "stream",
     "text": [
      "[[198.12]\n",
      " [200.66]\n",
      " [203.2 ]\n",
      " [205.  ]\n",
      " [208.  ]]\n",
      "[[ 94.8]\n",
      " [ 97.5]\n",
      " [ 99.8]\n",
      " [102.5]\n",
      " [104.8]]\n"
     ]
    }
   ],
   "source": [
    "# now convert into Reshape because df is frames\n",
    "h_x_train=np.array(df.Height[0:30]).reshape(-1,1)\n",
    "h_x_test=np.array(df.Height[30:35]).reshape(-1,1)\n",
    "w_y_train=np.array(df.Weight[0:30]).reshape(-1,1)\n",
    "w_y_test=np.array(df.Weight[30:35]).reshape(-1,1)\n",
    "print(h_x_test)\n",
    "print(w_y_test)"
   ]
  },
  {
   "cell_type": "code",
   "execution_count": 32,
   "metadata": {},
   "outputs": [],
   "source": [
    "from sklearn.linear_model import LinearRegression"
   ]
  },
  {
   "cell_type": "code",
   "execution_count": 35,
   "metadata": {},
   "outputs": [],
   "source": [
    "# creating linear regression object\n",
    "lreg=LinearRegression()"
   ]
  },
  {
   "cell_type": "code",
   "execution_count": 38,
   "metadata": {},
   "outputs": [
    {
     "data": {
      "text/plain": [
       "LinearRegression()"
      ]
     },
     "execution_count": 38,
     "metadata": {},
     "output_type": "execute_result"
    }
   ],
   "source": [
    "# train the model using training sets\n",
    "lreg.fit(h_x_train,w_y_train)\n",
    "lreg"
   ]
  },
  {
   "cell_type": "code",
   "execution_count": 43,
   "metadata": {},
   "outputs": [
    {
     "name": "stdout",
     "output_type": "stream",
     "text": [
      "predicted [[ 94.01655172]\n",
      " [ 96.42858732]\n",
      " [ 98.84062291]\n",
      " [100.54993948]\n",
      " [103.39880042]]\n",
      "Actual Label [[ 94.8]\n",
      " [ 97.5]\n",
      " [ 99.8]\n",
      " [102.5]\n",
      " [104.8]]\n"
     ]
    }
   ],
   "source": [
    "# make the prediction using testing\n",
    "h_y_predict=lreg.predict(h_x_test)\n",
    "print('predicted',h_y_predict)\n",
    "print('Actual Label',w_y_test)"
   ]
  },
  {
   "cell_type": "code",
   "execution_count": 45,
   "metadata": {},
   "outputs": [
    {
     "name": "stdout",
     "output_type": "stream",
     "text": [
      "[[103.39880042]]\n",
      "104.8\n"
     ]
    }
   ],
   "source": [
    "# lets predicted\n",
    "print(lreg.predict(np.array(208).reshape(-1,1)))\n",
    "print(df.Weight[34])"
   ]
  },
  {
   "cell_type": "code",
   "execution_count": 50,
   "metadata": {},
   "outputs": [
    {
     "name": "stdout",
     "output_type": "stream",
     "text": [
      "coffecent [[0.94962031]]\n",
      "intercepet [-94.12222469]\n"
     ]
    }
   ],
   "source": [
    "# the coffecent\n",
    "print(\"coffecent\",lreg.coef_)\n",
    "# intercepet\n",
    "print(\"intercepet\",lreg.intercept_)"
   ]
  },
  {
   "cell_type": "code",
   "execution_count": 52,
   "metadata": {},
   "outputs": [
    {
     "name": "stdout",
     "output_type": "stream",
     "text": [
      "0.9496203130337295\n",
      "-94.12222469410457\n"
     ]
    }
   ],
   "source": [
    "print(lreg.coef_[0][0])\n",
    "print(lreg.intercept_[0])"
   ]
  },
  {
   "cell_type": "code",
   "execution_count": 55,
   "metadata": {},
   "outputs": [
    {
     "data": {
      "image/png": "[encoded data removed]",
      "text/plain": [
       "<Figure size 432x288 with 1 Axes>"
      ]
     },
     "metadata": {
      "needs_background": "light"
     },
     "output_type": "display_data"
    }
   ],
   "source": [
    "# ploting Regression Line Against the true label\n",
    "plt.scatter(df.Height,df.Weight,color='blue')\n",
    "plt.plot(h_x_train,lreg.coef_[0][0]*h_x_train+lreg.intercept_[0],'r')\n",
    "plt.show()"
   ]
  },
  {
   "cell_type": "code",
   "execution_count": 56,
   "metadata": {},
   "outputs": [
    {
     "data": {
      "image/png": "[encoded data removed]",
      "text/plain": [
       "<Figure size 432x288 with 1 Axes>"
      ]
     },
     "metadata": {
      "needs_background": "light"
     },
     "output_type": "display_data"
    }
   ],
   "source": [
    "# original plot\n",
    "plt.scatter(df.Height,df.Weight,color='blue')\n",
    "#plt.plot(h_x_train,lreg.coef_[0][0]*h_x_train+lreg.intercept_[0],'r')\n",
    "plt.show()"
   ]
  },
  {
   "cell_type": "code",
   "execution_count": 62,
   "metadata": {},
   "outputs": [
    {
     "name": "stdout",
     "output_type": "stream",
     "text": [
      "mean squared error(test dataset)1.689643\n"
     ]
    }
   ],
   "source": [
    "from sklearn.metrics  import mean_squared_error\n",
    "# Evaluate Model\n",
    "# # The mean squared error\n",
    "print(\"mean squared error(test dataset)%2f\"%mean_squared_error(w_y_test,h_y_predict))"
   ]
  },
  {
   "cell_type": "code",
   "execution_count": null,
   "metadata": {},
   "outputs": [],
   "source": []
  }
 ],
 "metadata": {
  "kernelspec": {
   "display_name": "Python 3",
   "language": "python",
   "name": "python3"
  },
  "language_info": {
   "codemirror_mode": {
    "name": "ipython",
    "version": 3
   },
   "file_extension": ".py",
   "mimetype": "text/x-python",
   "name": "python",
   "nbconvert_exporter": "python",
   "pygments_lexer": "ipython3",
   "version": "3.8.5"
  }
 },
 "nbformat": 4,
 "nbformat_minor": 4
}
